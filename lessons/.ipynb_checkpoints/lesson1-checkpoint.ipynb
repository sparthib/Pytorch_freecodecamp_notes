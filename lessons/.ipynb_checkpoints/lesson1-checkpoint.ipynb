{
 "cells": [
  {
   "cell_type": "code",
   "execution_count": 2,
   "metadata": {},
   "outputs": [],
   "source": [
    "import torch"
   ]
  },
  {
   "cell_type": "markdown",
   "metadata": {},
   "source": [
    "## 1. Different types of tensors "
   ]
  },
  {
   "cell_type": "code",
   "execution_count": 3,
   "metadata": {
    "tags": []
   },
   "outputs": [
    {
     "name": "stdout",
     "output_type": "stream",
     "text": [
      "tensor(2.) torch.float32\n",
      "torch.Size([])\n"
     ]
    }
   ],
   "source": [
    "# Creating a number \n",
    "t1 = torch.tensor(2.) # 2. is shorthand for 2.0 ## first tensor which is a floating point number \n",
    "print(t1, t1.dtype)\n",
    "print(t1.shape)"
   ]
  },
  {
   "cell_type": "code",
   "execution_count": 4,
   "metadata": {
    "tags": []
   },
   "outputs": [
    {
     "name": "stdout",
     "output_type": "stream",
     "text": [
      "tensor([1, 2, 3, 4]) torch.int64\n",
      "torch.Size([4])\n"
     ]
    }
   ],
   "source": [
    "#Vector\n",
    "t2 = torch.tensor( [ 1, 2, 3, 4])\n",
    "print(t2, t2.dtype)\n",
    "print(t2.shape)"
   ]
  },
  {
   "cell_type": "code",
   "execution_count": 5,
   "metadata": {
    "tags": []
   },
   "outputs": [
    {
     "name": "stdout",
     "output_type": "stream",
     "text": [
      "tensor([[1., 2.],\n",
      "        [3., 4.],\n",
      "        [5., 6.]]) torch.float32\n",
      "torch.Size([3, 2])\n"
     ]
    }
   ],
   "source": [
    "#matrix \n",
    "t3 = torch.tensor([[1.,2.],[3,4],[5.,6.]])\n",
    "print(t3, t3.dtype)\n",
    "print(t3.shape)"
   ]
  },
  {
   "cell_type": "code",
   "execution_count": 6,
   "metadata": {
    "tags": []
   },
   "outputs": [
    {
     "name": "stdout",
     "output_type": "stream",
     "text": [
      "tensor([[[1., 2.],\n",
      "         [3., 4.],\n",
      "         [5., 6.]],\n",
      "\n",
      "        [[2., 3.],\n",
      "         [4., 5.],\n",
      "         [6., 7.]]]) torch.float32\n",
      "torch.Size([2, 3, 2])\n"
     ]
    }
   ],
   "source": [
    "#tensor \n",
    "t4 = torch.tensor([[[1.,2.],[3,4],[5.,6.]]  , [[2.,3.],[4,5],[6.,7.]] ])\n",
    "print(t4, t4.dtype)\n",
    "print(t4.shape) # x matrices, each w/ y rows, z columns"
   ]
  },
  {
   "cell_type": "markdown",
   "metadata": {},
   "source": [
    "All matrices in a tensor should be of the same number of rows and columns. "
   ]
  },
  {
   "cell_type": "markdown",
   "metadata": {},
   "source": [
    "## 2.Tensor operations and gradients "
   ]
  },
  {
   "cell_type": "markdown",
   "metadata": {},
   "source": [
    "### requires_grad"
   ]
  },
  {
   "cell_type": "code",
   "execution_count": 7,
   "metadata": {},
   "outputs": [],
   "source": [
    "x = torch.tensor(4.)\n",
    "w = torch.tensor(3., requires_grad= True)\n",
    "b = torch.tensor(5., requires_grad= True)\n"
   ]
  },
  {
   "cell_type": "code",
   "execution_count": 8,
   "metadata": {},
   "outputs": [
    {
     "data": {
      "text/plain": [
       "tensor(17., grad_fn=<AddBackward0>)"
      ]
     },
     "execution_count": 8,
     "metadata": {},
     "output_type": "execute_result"
    }
   ],
   "source": [
    "y = w * x + b  #normal linear reg operation on matrices\n",
    "y"
   ]
  },
  {
   "cell_type": "markdown",
   "metadata": {},
   "source": [
    "For tensors which requires_grad is set to True, when they are used to calculate a function, the function's derivative can be easily calculated w.r.t. them. \n",
    "\n",
    "In the example above, w and b have requires_grad set to True and are used to calculate y. \n",
    "\n",
    "--> dy/dw and dy/db can be easily calculated in that case. "
   ]
  },
  {
   "cell_type": "markdown",
   "metadata": {},
   "source": [
    "### .backward and .grad"
   ]
  },
  {
   "cell_type": "code",
   "execution_count": 9,
   "metadata": {},
   "outputs": [],
   "source": [
    "#Compute derivatives \n",
    "y.backward()"
   ]
  },
  {
   "cell_type": "markdown",
   "metadata": {},
   "source": [
    "The derivative of y w.r.t. to each tensor is stored in the respective tensor's '.grad' property. "
   ]
  },
  {
   "cell_type": "code",
   "execution_count": 10,
   "metadata": {
    "tags": []
   },
   "outputs": [
    {
     "name": "stdout",
     "output_type": "stream",
     "text": [
      "dy/dx: None\n",
      "dy/dw: 4.0\n",
      "dy/db: 1.0\n"
     ]
    }
   ],
   "source": [
    "#Display derivatives using .grad \n",
    "\n",
    "print('dy/dx: {}'.format(x.grad))  # will be none because x's require_grad is False by default\n",
    "print('dy/dw: {}'.format(w.grad)) #dy/dw equals x\n",
    "print('dy/db: {}'.format(b.grad))"
   ]
  },
  {
   "cell_type": "markdown",
   "metadata": {},
   "source": [
    "## 3. Converting numpy array to pytorch tensor \n",
    "### torch.from_numpy(), .numpy() functions "
   ]
  },
  {
   "cell_type": "code",
   "execution_count": 11,
   "metadata": {},
   "outputs": [],
   "source": [
    "import numpy as np"
   ]
  },
  {
   "cell_type": "code",
   "execution_count": 12,
   "metadata": {},
   "outputs": [],
   "source": [
    "x = np.array([[1, 2], [3, 4.]])\n",
    "y = torch.from_numpy(x) ## converting numpy array to torch tensor\n"
   ]
  },
  {
   "cell_type": "code",
   "execution_count": 13,
   "metadata": {},
   "outputs": [
    {
     "data": {
      "text/plain": [
       "(dtype('float64'), torch.float64)"
      ]
     },
     "execution_count": 13,
     "metadata": {},
     "output_type": "execute_result"
    }
   ],
   "source": [
    "x.dtype, y.dtype"
   ]
  },
  {
   "cell_type": "code",
   "execution_count": 14,
   "metadata": {},
   "outputs": [
    {
     "data": {
      "text/plain": [
       "dtype('float64')"
      ]
     },
     "execution_count": 14,
     "metadata": {},
     "output_type": "execute_result"
    }
   ],
   "source": [
    "#Tensor to array\n",
    "z  =  y.numpy()\n",
    "z.dtype"
   ]
  },
  {
   "cell_type": "code",
   "execution_count": null,
   "metadata": {},
   "outputs": [],
   "source": []
  }
 ],
 "metadata": {
  "kernelspec": {
   "display_name": "Python 3",
   "language": "python",
   "name": "python3"
  },
  "language_info": {
   "codemirror_mode": {
    "name": "ipython",
    "version": 3
   },
   "file_extension": ".py",
   "mimetype": "text/x-python",
   "name": "python",
   "nbconvert_exporter": "python",
   "pygments_lexer": "ipython3",
   "version": "3.7.3"
  }
 },
 "nbformat": 4,
 "nbformat_minor": 2
}
